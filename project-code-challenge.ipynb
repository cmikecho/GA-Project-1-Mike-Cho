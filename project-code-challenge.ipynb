{
 "cells": [
  {
   "cell_type": "markdown",
   "metadata": {},
   "source": [
    "<img src=\"http://imgur.com/1ZcRyrc.png\" style=\"float: left; margin: 20px; height: 55px\">\n",
    "\n",
    "# Project 1: Python Coding Exercises\n",
    "\n",
    "_Authors: Joseph Nelson (DC) _\n",
    "\n",
    "---"
   ]
  },
  {
   "cell_type": "markdown",
   "metadata": {},
   "source": [
    "## Due Date: 11:59pm Sunday 21st Oct (in your timezone)"
   ]
  },
  {
   "cell_type": "markdown",
   "metadata": {},
   "source": [
    "The following code challenges are drawn from common exercises used in technical interviews.\n",
    "\n",
    "Please note that there may be several ways to approach each challenge. If you get stuck, try mapping out your approach in pseudocode first. Finally, while solutions to problems like these may be found online, remember that if you copy/paste code that you can't explain, you'll be missing out on the point of the project. The only way to truly learn a new skill is through practice, trial, and error - we can only help you improve by understanding where you are having trouble."
   ]
  },
  {
   "cell_type": "markdown",
   "metadata": {},
   "source": [
    "### Challenge 1: Largest Palindrome\n",
    "A palindromic number reads the same both ways. For example, 1234321 is a palindrome. The largest palindrome made from the product of two two-digit numbers is 9009 = 91 × 99. Find the largest palindrome made from the product of two three-digit numbers. Afterward, write a brief explanation walking through your code's logic in markdown."
   ]
  },
  {
   "cell_type": "markdown",
   "metadata": {},
   "source": [
    "### Largest Palindrome Description\n",
    "\n",
    "There are three main parts to the code:\n",
    "\n",
    "Step 1. Given a number input, check if the number is a Palindrome or not. Defined a function **check_palindrome(number)** that returns a Boolean indicating Palindrome number. Used list reversing.\n",
    "\n",
    "Step 2. Find all multiples of three digit numbers. To do this, nested for loops are used so that we can find all multiples of one three digit number with all the other three digit numbers. Defined a variable called **multiplied**\n",
    "\n",
    "We only need to return the Palindrome Number. Hence we used check_palindrome() method for every iteration of x,y in the nested loop and only move to Step 3 when the method returns True. \n",
    "\n",
    "Step 3. Track highest palindrome. Created a variable **high_palindrome** to track the highest palindrome. Used If Statement to check whether one is bigger than the other.\n",
    "\n"
   ]
  },
  {
   "cell_type": "code",
   "execution_count": 106,
   "metadata": {},
   "outputs": [
    {
     "name": "stdout",
     "output_type": "stream",
     "text": [
      "900900\n"
     ]
    }
   ],
   "source": [
    "def check_palindrome(number):\n",
    "    reverse_number = int(str(number)[::-1])\n",
    "    if original_number == reverse_number:\n",
    "        return True\n",
    "    else:\n",
    "        return False\n",
    "\n",
    "high_palindrome = 0\n",
    "\n",
    "for x in range(100, 1000):\n",
    "    multiplied = 0\n",
    "    for y in range(x+1, 1000):\n",
    "        multiplied = x * y\n",
    "        if check_palindrome(multiplied):\n",
    "            if multiplied > high_palindrome:\n",
    "                high_palindrome = multiplied\n",
    "\n",
    "\n",
    "print(high_palindrome)"
   ]
  },
  {
   "cell_type": "markdown",
   "metadata": {},
   "source": [
    "\n",
    "### Challenge 2: Summation of Primes\n",
    "The sum of the primes below 10 is 2 + 3 + 5 + 7 = 17. Find the sum of all the primes below 2,000. Afterward, write a brief explanation walking through your code's logic in markdown."
   ]
  },
  {
   "cell_type": "markdown",
   "metadata": {},
   "source": [
    "### Summation of Primes Description\n",
    "\n",
    "There are two main parts to the code:\n",
    "\n",
    "Part 1. Define a function to test whether the number is a prime or not. \n",
    "\n",
    "Define a for loop **range(1,prime+1)** to loop through each number below the prime (So if prime number is 5, it will loop through 1,2,3,4,5) and check if it is divisible by the iterated number. If so, append the divisible factor in the **factorlist**\n",
    "\n",
    "Prime Numbers are defined as those that can only be divisible by 1 and the number itself. Hence, for all prime numbers, **factorlist** should only have two elements (In other words, len(factorlist) returns 2). The function will then return True. \n",
    "\n",
    "Part 2. Find the sum of all the primes below 2000.\n",
    "\n",
    "Write a for loop and for each iteration, apply the **extract_prime** method. If the method returns True, add the number to the variable **total_prime**. "
   ]
  },
  {
   "cell_type": "code",
   "execution_count": 108,
   "metadata": {},
   "outputs": [
    {
     "name": "stdout",
     "output_type": "stream",
     "text": [
      "277050\n"
     ]
    }
   ],
   "source": [
    "total_prime = 0\n",
    "\n",
    "# Define a function called extract_prime() given an integer input to output Boolean value indicating prime number\n",
    "def extract_prime(prime):\n",
    "    factorlist = []\n",
    "    for x in range(1,prime+1):\n",
    "        if prime % x == 0:\n",
    "            factorlist.append(x)\n",
    "\n",
    "    if len(factorlist) == 2:\n",
    "        return True\n",
    "\n",
    "# Loop through the numbers and apply the extract_prime() method for each iteration within the loop. \n",
    "for x in range(2000):\n",
    "    if extract_prime(x):\n",
    "        total_prime += x\n",
    "\n",
    "# Print the variable total_prime()\n",
    "print(total_prime)"
   ]
  },
  {
   "cell_type": "markdown",
   "metadata": {},
   "source": [
    "### Challenge 3: Multiples of 3 and 5\n",
    "If we list all of the natural numbers below 10 that are multiples of 3 or 5, we get 3, 5, 6, and 9. The sum of these multiples is 23. Find the sum of all the multiples of 3 and 5 below 1,000. Afterward, write a brief explanation walking through your code's logic in markdown."
   ]
  },
  {
   "cell_type": "markdown",
   "metadata": {},
   "source": [
    "### Multiples of 3 and 5 description\n",
    "\n",
    "Write a for loop from 1 to 999, and within each iteration, check if the number is divisible by 3 or 5. If so, add the number to the variable **total_sum**"
   ]
  },
  {
   "cell_type": "code",
   "execution_count": 107,
   "metadata": {
    "scrolled": true
   },
   "outputs": [
    {
     "name": "stdout",
     "output_type": "stream",
     "text": [
      "233168\n"
     ]
    }
   ],
   "source": [
    "total_sum = 0\n",
    "for x in range(1, 1000):\n",
    "    if x % 3 == 0 or x % 5 == 0:\n",
    "        total_sum += x\n",
    "print(total_sum)"
   ]
  },
  {
   "cell_type": "markdown",
   "metadata": {},
   "source": [
    "### Challenge 4: String Compressor\n",
    "Implement a method to perform basic string compression using the counts of repeated characters. (This is called run-length encoding.) For example, the string \"aabcccccaaa\" would become a2b1c5a3. If the “compressed” string would not become smaller than the original string, your method should return the original string. You can assume the string has only uppercase and lowercase letters (a–z). Specify whether your solution is case sensitive or case insensitive and what you would need to change to make it the other. Afterward, write a brief explanation walking through your code's logic in markdown."
   ]
  },
  {
   "cell_type": "markdown",
   "metadata": {},
   "source": [
    "### String Compressor Description\n",
    "\n",
    "1. Define **my_string** that will store the original string. We used **.lower()** method so that the program is case insensitive. \n",
    "\n",
    "2. Define the function **compressor(string)** that returns the compressed version\n",
    "\n",
    "    - Define a new variable called **compressed_string** and asign an empty string. We will be appending each string when iterating. \n",
    "    - Define a **counter** variable. This variable is used to track the number of repeated letters. \n",
    "    - For Loop to go through all the number of characters within the string. Write a for loop to check if the my_string at position x is same as position x+1, which then will add 1 to the Counter variable. \n",
    "    - If not, we should be moving to the next letter. Append **my_string[x+1]** to the compressed_string and move onto the next character. \n",
    "    - In the end, return the compressed_string variable. \n",
    "    \n",
    "3. Write a function called **return_shorter_string(my_string, compressed_string)** that takes two inputs: the original string and the compressed string. Use the len() method to compare the length of characters, and return whichever has the shorter length. "
   ]
  },
  {
   "cell_type": "code",
   "execution_count": null,
   "metadata": {},
   "outputs": [],
   "source": [
    "my_string = input(\"Input your String and we will return you the compressed version!\").lower()\n",
    "\n",
    "def compressor(string):\n",
    "    global my_string\n",
    "    compressed_string = \"\"\n",
    "    counter = 1\n",
    "\n",
    "    compressed_string += my_string[0]\n",
    "\n",
    "    for x in range(len(my_string)-1):\n",
    "        if my_string[x] == my_string[x+1]:\n",
    "            counter += 1\n",
    "        else:\n",
    "            compressed_string += str(counter)\n",
    "            \n",
    "            compressed_string += my_string[x+1]\n",
    "            counter = 1\n",
    "\n",
    "    if counter >= 1: \n",
    "        compressed_string += str(counter)\n",
    "\n",
    "    return compressed_string\n",
    "\n",
    "def return_shorter_string(my_string, compressed_string):\n",
    "    if len(my_string) < len(compressed_string):\n",
    "        print(my_string)\n",
    "    else:\n",
    "        print(compressed_string)\n",
    "\n",
    "return_shorter_string(my_string, compressor(my_string))"
   ]
  },
  {
   "cell_type": "markdown",
   "metadata": {},
   "source": [
    "### *BONUS* Challenge: FizzBuzz\n",
    "Write a program that prints all of the numbers from 1 to 100. For multiples of 3, instead of the number, print \"Fizz;\" for multiples of 5, print \"Buzz.\" For numbers that are multiples of both 3 and 5, print \"FizzBuzz.\" Afterward, write a brief explanation walking through your code's logic in markdown."
   ]
  },
  {
   "cell_type": "markdown",
   "metadata": {},
   "source": [
    "### FizzBuzz Description\n",
    "\n",
    "Write a for loop to iterate from 1 to 100. First of all, we need to check for multiples of both 3 and 5, and if so print Fizzbuzz. The **continue** will move onto the next iteration of for loop without checking for multiple of 3 and multiple of 5. This prevents the issue of 15 being printed out \"FizzBuzz\", \"Fizz\", and \"Buzz."
   ]
  },
  {
   "cell_type": "code",
   "execution_count": 65,
   "metadata": {},
   "outputs": [
    {
     "name": "stdout",
     "output_type": "stream",
     "text": [
      "3 Fizz\n",
      "5 Buzz\n",
      "6 Fizz\n",
      "9 Fizz\n",
      "10 Buzz\n",
      "12 Fizz\n",
      "15 FizzBuzz\n",
      "18 Fizz\n",
      "20 Buzz\n",
      "21 Fizz\n",
      "24 Fizz\n",
      "25 Buzz\n",
      "27 Fizz\n",
      "30 FizzBuzz\n",
      "33 Fizz\n",
      "35 Buzz\n",
      "36 Fizz\n",
      "39 Fizz\n",
      "40 Buzz\n",
      "42 Fizz\n",
      "45 FizzBuzz\n",
      "48 Fizz\n",
      "50 Buzz\n",
      "51 Fizz\n",
      "54 Fizz\n",
      "55 Buzz\n",
      "57 Fizz\n",
      "60 FizzBuzz\n",
      "63 Fizz\n",
      "65 Buzz\n",
      "66 Fizz\n",
      "69 Fizz\n",
      "70 Buzz\n",
      "72 Fizz\n",
      "75 FizzBuzz\n",
      "78 Fizz\n",
      "80 Buzz\n",
      "81 Fizz\n",
      "84 Fizz\n",
      "85 Buzz\n",
      "87 Fizz\n",
      "90 FizzBuzz\n",
      "93 Fizz\n",
      "95 Buzz\n",
      "96 Fizz\n",
      "99 Fizz\n",
      "100 Buzz\n"
     ]
    }
   ],
   "source": [
    "for x in range(1,101):\n",
    "    if x % 3 == 0 and x % 5 == 0:\n",
    "        print(x,\"FizzBuzz\")\n",
    "        continue\n",
    "    if x % 3 == 0:\n",
    "        print(x,\"Fizz\")\n",
    "    if x % 5 == 0:\n",
    "        print(x, \"Buzz\")"
   ]
  },
  {
   "cell_type": "code",
   "execution_count": null,
   "metadata": {
    "collapsed": true
   },
   "outputs": [],
   "source": []
  }
 ],
 "metadata": {
  "anaconda-cloud": {},
  "kernelspec": {
   "display_name": "Python 3",
   "language": "python",
   "name": "python3"
  },
  "language_info": {
   "codemirror_mode": {
    "name": "ipython",
    "version": 3
   },
   "file_extension": ".py",
   "mimetype": "text/x-python",
   "name": "python",
   "nbconvert_exporter": "python",
   "pygments_lexer": "ipython3",
   "version": "3.6.3"
  }
 },
 "nbformat": 4,
 "nbformat_minor": 2
}
